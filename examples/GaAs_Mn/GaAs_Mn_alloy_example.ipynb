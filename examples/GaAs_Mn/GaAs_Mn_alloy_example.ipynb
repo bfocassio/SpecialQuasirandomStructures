{
 "cells": [
  {
   "cell_type": "code",
   "execution_count": 1,
   "id": "64e7491e-249d-4a71-b7d2-96150d494a4d",
   "metadata": {},
   "outputs": [],
   "source": [
    "from ase import Atoms\n",
    "from sqs import SQS"
   ]
  },
  {
   "cell_type": "code",
   "execution_count": 2,
   "id": "2d0f9b16-4998-4656-af01-2fa099846502",
   "metadata": {},
   "outputs": [],
   "source": [
    "sqs = SQS(max_m=3,conv_thr=1e-5)"
   ]
  },
  {
   "cell_type": "code",
   "execution_count": 3,
   "id": "96b1f77b-5d52-4170-8ff6-0d2306fc94ae",
   "metadata": {},
   "outputs": [],
   "source": [
    "sqs.read_atoms('POSCAR_GaAs.vasp',multiply=True,nx=4,ny=4,nz=4)"
   ]
  },
  {
   "cell_type": "code",
   "execution_count": 4,
   "id": "b2eb121b-d9da-47b4-84f2-b353d9afce14",
   "metadata": {},
   "outputs": [],
   "source": [
    "sqs.select_sublattice(sublattice='Ga')"
   ]
  },
  {
   "cell_type": "code",
   "execution_count": 5,
   "id": "4289505f-8e4c-42d0-a920-94cbec5dc597",
   "metadata": {},
   "outputs": [
    {
     "name": "stdout",
     "output_type": "stream",
     "text": [
      "Creating neighbor list for 64 atoms\n",
      "Structure is 3D: there are 27 PBC neighbor cells\n",
      "Computing distance matrix ... done in 0.325 sec\n",
      "Creating neighbor matrix up to 3 neighbor ... done in 0.003 sec\n"
     ]
    }
   ],
   "source": [
    "sqs.create_neighbor_list(verbose=True)"
   ]
  },
  {
   "cell_type": "code",
   "execution_count": 6,
   "id": "f583c4cc-90d8-4fd4-8b41-a8058972a002",
   "metadata": {},
   "outputs": [
    {
     "name": "stdout",
     "output_type": "stream",
     "text": [
      "Creating SQS geometry\n",
      "\n",
      "Asked concentration (x):  3.10 %\n",
      "Real concentration (x) :  3.12 % (2 alloying atoms)\n",
      "\n",
      "Target pair correlation: 9.766e-04\n",
      "\n",
      "        step   |     Corr. 1     |     Corr. 2     |     Corr. 3     |     dCorr. 1     |     dCorr. 2     |     dCorr. 3\n",
      "           0   |   0.000000e+00  |   0.000000e+00  |   0.000000e+00  |   9.536743e-07   |   9.536743e-07   |   9.536743e-07 <-- converged\n",
      "\n",
      "Converged within 0 steps\n",
      "\n",
      "Final correlation and delta with reference corr. up to 3 neighbors:\n",
      "***        0   |   0.000000e+00  |   0.000000e+00  |   0.000000e+00  |   9.536743e-07   |   9.536743e-07   |   9.536743e-07 ***\n",
      "\n",
      "SQS geometry created and stored at sqs_geometry\n",
      "\n"
     ]
    }
   ],
   "source": [
    "sqs.create_geometry(alloy_species='Mn',concentration=3.1,maxtrials=int(1e4),verbose=True)\n",
    "\n",
    "sqs.write_sqs_atoms('POSCAR GaAs_2Mn.vasp',vasp5=True,sort=True,direct=True)\n",
    "sqs.save_state('state_GaAs_2Mn.json')"
   ]
  },
  {
   "cell_type": "code",
   "execution_count": 7,
   "id": "55613ede-a4fe-4e7a-b446-fc6aaaa97e60",
   "metadata": {},
   "outputs": [
    {
     "name": "stdout",
     "output_type": "stream",
     "text": [
      "Creating SQS geometry\n",
      "\n",
      "Asked concentration (x):  4.70 %\n",
      "Real concentration (x) :  4.69 % (3 alloying atoms)\n",
      "\n",
      "Target pair correlation: 2.197e-03\n",
      "\n",
      "        step   |     Corr. 1     |     Corr. 2     |     Corr. 3     |     dCorr. 1     |     dCorr. 2     |     dCorr. 3\n",
      "           0   |   2.604167e-03  |   0.000000e+00  |   1.302083e-03  |   1.655685e-07   |   4.827976e-06   |   8.013513e-07 <-- converged\n",
      "\n",
      "Converged within 0 steps\n",
      "\n",
      "Final correlation and delta with reference corr. up to 3 neighbors:\n",
      "***        0   |   2.604167e-03  |   0.000000e+00  |   1.302083e-03  |   1.655685e-07   |   4.827976e-06   |   8.013513e-07 ***\n",
      "\n",
      "SQS geometry created and stored at sqs_geometry\n",
      "\n"
     ]
    }
   ],
   "source": [
    "sqs.create_geometry(alloy_species='Mn',concentration=4.7,maxtrials=int(1e6),verbose=True)\n",
    "\n",
    "sqs.write_sqs_atoms('POSCAR_GaAs_3Mn.vasp',vasp5=True,sort=True,direct=True)\n",
    "sqs.save_state('state_GaAs_3Mn.json')"
   ]
  },
  {
   "cell_type": "code",
   "execution_count": 8,
   "id": "836714cd-94aa-4c04-ad14-9d4c85f25d03",
   "metadata": {},
   "outputs": [
    {
     "name": "stdout",
     "output_type": "stream",
     "text": [
      "Creating SQS geometry\n",
      "\n",
      "Asked concentration (x):  6.30 %\n",
      "Real concentration (x) :  6.25 % (4 alloying atoms)\n",
      "\n",
      "Target pair correlation: 3.906e-03\n",
      "\n",
      "        step   |     Corr. 1     |     Corr. 2     |     Corr. 3     |     dCorr. 1     |     dCorr. 2     |     dCorr. 3\n",
      "           0   |   0.000000e+00  |   1.041667e-02  |   2.604167e-03  |   1.525879e-05   |   4.238553e-05   |   1.695421e-06\n",
      "           1   |   0.000000e+00  |   0.000000e+00  |   2.604167e-03  |   1.525879e-05   |   1.525879e-05   |   1.695421e-06\n",
      "           2   |   0.000000e+00  |   1.041667e-02  |   5.208333e-03  |   1.525879e-05   |   4.238553e-05   |   1.695421e-06\n",
      "           3   |   2.604167e-03  |   0.000000e+00  |   3.906250e-03  |   1.695421e-06   |   1.525879e-05   |   0.000000e+00\n",
      "           4   |   2.604167e-03  |   0.000000e+00  |   2.604167e-03  |   1.695421e-06   |   1.525879e-05   |   1.695421e-06\n",
      "           5   |   2.604167e-03  |   0.000000e+00  |   2.604167e-03  |   1.695421e-06   |   1.525879e-05   |   1.695421e-06\n",
      "           6   |   0.000000e+00  |   0.000000e+00  |   3.906250e-03  |   1.525879e-05   |   1.525879e-05   |   0.000000e+00\n",
      "           7   |   2.604167e-03  |   0.000000e+00  |   2.604167e-03  |   1.695421e-06   |   1.525879e-05   |   1.695421e-06\n",
      "           8   |   2.604167e-03  |   0.000000e+00  |   2.604167e-03  |   1.695421e-06   |   1.525879e-05   |   1.695421e-06\n",
      "           9   |   0.000000e+00  |   5.208333e-03  |   2.604167e-03  |   1.525879e-05   |   1.695421e-06   |   1.695421e-06\n",
      "          10   |   0.000000e+00  |   0.000000e+00  |   5.208333e-03  |   1.525879e-05   |   1.525879e-05   |   1.695421e-06\n",
      "          11   |   0.000000e+00  |   1.562500e-02  |   0.000000e+00  |   1.525879e-05   |   1.373291e-04   |   1.525879e-05\n",
      "          12   |   0.000000e+00  |   0.000000e+00  |   2.604167e-03  |   1.525879e-05   |   1.525879e-05   |   1.695421e-06\n",
      "          13   |   2.604167e-03  |   0.000000e+00  |   2.604167e-03  |   1.695421e-06   |   1.525879e-05   |   1.695421e-06\n",
      "          14   |   2.604167e-03  |   5.208333e-03  |   2.604167e-03  |   1.695421e-06   |   1.695421e-06   |   1.695421e-06 <-- converged\n",
      "\n",
      "Converged within 14 steps\n",
      "\n",
      "Final correlation and delta with reference corr. up to 3 neighbors:\n",
      "***       14   |   2.604167e-03  |   5.208333e-03  |   2.604167e-03  |   1.695421e-06   |   1.695421e-06   |   1.695421e-06 ***\n",
      "\n",
      "SQS geometry created and stored at sqs_geometry\n",
      "\n"
     ]
    }
   ],
   "source": [
    "sqs.create_geometry(alloy_species='Mn',concentration=6.3,maxtrials=int(1e6),verbose=True)\n",
    "\n",
    "sqs.write_sqs_atoms('POSCAR_GaAs_4Mn.vasp',vasp5=True,sort=True,direct=True)\n",
    "sqs.save_state('state_GaAs_4Mn.json')"
   ]
  },
  {
   "cell_type": "code",
   "execution_count": null,
   "id": "f733464d-5129-49aa-98c5-e52dfca9d603",
   "metadata": {},
   "outputs": [],
   "source": []
  }
 ],
 "metadata": {
  "kernelspec": {
   "display_name": "Python 3 (ipykernel)",
   "language": "python",
   "name": "python3"
  },
  "language_info": {
   "codemirror_mode": {
    "name": "ipython",
    "version": 3
   },
   "file_extension": ".py",
   "mimetype": "text/x-python",
   "name": "python",
   "nbconvert_exporter": "python",
   "pygments_lexer": "ipython3",
   "version": "3.9.5"
  }
 },
 "nbformat": 4,
 "nbformat_minor": 5
}
